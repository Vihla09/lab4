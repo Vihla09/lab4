{
 "cells": [
  {
   "cell_type": "markdown",
   "id": "3085ec43-34bb-4afb-9515-517e0489db3e",
   "metadata": {},
   "source": [
    "## Ансамбли и полносвязные нейронные сети\n",
    "В этом ноутбуке вам нужно обучить модели на датасете классификации из предыдущего ноутбука и сравнить результаты. Вам будет предоставлен baseline, на основе которого вы будете доделывать предсказывающие модели. Оценка лабы будет зависеть от ROC-AUC на тестовых данных по следующим критериям:\n",
    "\\\n",
    "AUC - на тестовых данных\n",
    "- $AUC \\leq 0.76$ - 0 баллов\n",
    "- $0.76 < AUC \\leq 0.77$ - 2 балла\n",
    "- $0.77 < AUC \\leq 0.78$ - 4 балла\n",
    "- $0.78 < AUC \\leq 0.79$ - 6 баллов\n",
    "- $0.79 < AUC \\leq 0.80$ - 8 баллов\n",
    "- $AUC > 0.80$ - 10 баллов\n"
   ]
  },
  {
   "cell_type": "code",
   "execution_count": 1,
   "id": "ec07e3a2-480a-4350-868e-02679ff2aada",
   "metadata": {
    "tags": []
   },
   "outputs": [],
   "source": [
    "from sklearn.ensemble import RandomForestClassifier, GradientBoostingClassifier\n",
    "from sklearn.neural_network import MLPClassifier\n",
    "\n",
    "from sklearn.metrics import roc_auc_score, precision_score, recall_score, roc_curve, accuracy_score\n",
    "\n",
    "from sklearn.model_selection import train_test_split\n",
    "\n",
    "import matplotlib.pyplot as plt\n",
    "import pandas as pd\n",
    "import numpy as np"
   ]
  },
  {
   "cell_type": "code",
   "execution_count": 2,
   "id": "563ad31b-5c83-4366-819a-34dad4edecdc",
   "metadata": {
    "tags": []
   },
   "outputs": [
    {
     "name": "stdout",
     "output_type": "stream",
     "text": [
      "   Creditability  Account_Balance  Duration_of_Credit_monthly  \\\n",
      "0              1                1                          18   \n",
      "1              1                1                           9   \n",
      "2              1                2                          12   \n",
      "3              1                1                          12   \n",
      "4              1                1                          12   \n",
      "\n",
      "   Payment_Status_of_Previous_Credit  Purpose  Credit_Amount  \\\n",
      "0                                  4        2           1049   \n",
      "1                                  4        0           2799   \n",
      "2                                  2        9            841   \n",
      "3                                  4        0           2122   \n",
      "4                                  4        0           2171   \n",
      "\n",
      "   Value_Savings_Stocks  Length_of_current_employment  Instalment_per_cent  \\\n",
      "0                     1                             2                    4   \n",
      "1                     1                             3                    2   \n",
      "2                     2                             4                    2   \n",
      "3                     1                             3                    3   \n",
      "4                     1                             3                    4   \n",
      "\n",
      "   Sex_Marital_Status  ...  Duration_in_Current_address  \\\n",
      "0                   2  ...                            4   \n",
      "1                   3  ...                            2   \n",
      "2                   2  ...                            4   \n",
      "3                   3  ...                            2   \n",
      "4                   3  ...                            4   \n",
      "\n",
      "   Most_valuable_available_asset  Age_years  Concurrent_Credits  \\\n",
      "0                              2         21                   3   \n",
      "1                              1         36                   3   \n",
      "2                              1         23                   3   \n",
      "3                              1         39                   3   \n",
      "4                              2         38                   1   \n",
      "\n",
      "   Type_of_apartment  No_of_Credits_at_this_Bank  Occupation  \\\n",
      "0                  1                           1           3   \n",
      "1                  1                           2           3   \n",
      "2                  1                           1           2   \n",
      "3                  1                           2           2   \n",
      "4                  2                           2           2   \n",
      "\n",
      "   No_of_dependents  Telephone  Foreign_Worker  \n",
      "0                 1          1               1  \n",
      "1                 2          1               1  \n",
      "2                 1          1               1  \n",
      "3                 2          1               2  \n",
      "4                 1          1               2  \n",
      "\n",
      "[5 rows x 21 columns]\n"
     ]
    }
   ],
   "source": [
    "data = pd.read_csv('german.csv', sep=';')\n",
    "print(data.head())\n",
    "\n",
    "X = data.iloc[:, 1:].to_numpy()\n",
    "y = data.iloc[:, 0].to_numpy()\n",
    "\n",
    "X_train, X_test, y_train, y_test = train_test_split(X, y, test_size=0.2, random_state=42)"
   ]
  },
  {
   "cell_type": "code",
   "execution_count": 3,
   "id": "f6ee20df",
   "metadata": {},
   "outputs": [],
   "source": [
    "from imblearn.over_sampling import SMOTE\n",
    "from sklearn.preprocessing import StandardScaler\n",
    "from sklearn.model_selection import RandomizedSearchCV\n",
    "from scipy.stats import uniform, randint"
   ]
  },
  {
   "cell_type": "code",
   "execution_count": 4,
   "id": "f93737ec-e5eb-4d72-8beb-5dba4d4c581f",
   "metadata": {
    "tags": []
   },
   "outputs": [
    {
     "data": {
      "image/png": "[encoded data removed]",
      "text/plain": [
       "<Figure size 640x480 with 1 Axes>"
      ]
     },
     "metadata": {},
     "output_type": "display_data"
    }
   ],
   "source": [
    "plt.hist(y_train, bins=2, edgecolor='k')\n",
    "plt.xticks([0, 1])\n",
    "plt.xlabel('Class (0: Non-Creditworthy, 1: Creditworthy)')\n",
    "plt.ylabel('Count')\n",
    "plt.title('Distribution of Classes in Training Data')\n",
    "plt.show()"
   ]
  },
  {
   "cell_type": "code",
   "execution_count": 8,
   "id": "4bae9a81",
   "metadata": {},
   "outputs": [],
   "source": [
    "smote = SMOTE(sampling_strategy='auto', random_state=42)\n",
    "X_balanced, y_balanced = smote.fit_resample(X_train, y_train)\n",
    "\n",
    "scaler = StandardScaler()\n",
    "X_train_scaled = scaler.fit_transform(X_balanced)\n",
    "X_test_scaled = scaler.transform(X_test)"
   ]
  },
  {
   "cell_type": "code",
   "execution_count": 9,
   "id": "ca50d423",
   "metadata": {},
   "outputs": [
    {
     "data": {
      "image/png": "[encoded data removed]",
      "text/plain": [
       "<Figure size 640x480 with 1 Axes>"
      ]
     },
     "metadata": {},
     "output_type": "display_data"
    }
   ],
   "source": [
    "plt.hist(y_balanced, bins=2, edgecolor='k')\n",
    "plt.xticks([0, 1])\n",
    "plt.xlabel('Class (0: Non-Creditworthy, 1: Creditworthy)')\n",
    "plt.ylabel('Count')\n",
    "plt.title('Distribution of Classes in Training Data')\n",
    "plt.show()"
   ]
  },
  {
   "cell_type": "markdown",
   "id": "25a30ccb",
   "metadata": {},
   "source": [
    "Улучшать метрики моделей будем через оптимизацию параметров, для этого для начала опредилимся со списком парметров для RandomizedSearchCV."
   ]
  },
  {
   "cell_type": "code",
   "execution_count": 11,
   "id": "00ff95bc",
   "metadata": {},
   "outputs": [],
   "source": [
    "# Рассмотрим стандартные параметры для каждой модели.\n",
    "params_for_RFC = {'n_estimators': randint(50, 200), 'max_depth': [None] + list(randint(1, 20).rvs(size=5)), 'min_samples_split': randint(2, 30), 'min_samples_leaf': randint(1, 10)}\n",
    "\n",
    "params_for_GB = {'n_estimators': randint(50, 200), 'learning_rate': uniform(0.01, 0.3), 'max_depth': randint(3, 10), \\\n",
    "                 'min_samples_split': randint(2, 10), 'min_samples_leaf': randint(1, 4), 'subsample': uniform(0.6, 0.4), \\\n",
    "                    'max_features': ['sqrt', 'log2', None], 'loss': ['exponential'], 'warm_start': [True, False]}\n",
    "\n",
    "params_for_MLP = {'alpha': [0.0001, 0.001, 0.01, 0.1], 'learning_rate': ['constant', 'invscaling', 'adaptive'], 'activation': ['relu', 'tanh', 'logistic'],\\\n",
    "                  'batch_size': [32, 64, 128], 'solver': ['lbfgs', 'sgd', 'adam'], 'momentum': [0.9, 0.95, 0.99], 'early_stopping': [True, False], \\\n",
    "                    'validation_fraction': [0.1, 0.2, 0.3]}"
   ]
  },
  {
   "cell_type": "markdown",
   "id": "a65c8f25",
   "metadata": {},
   "source": [
    "Объявим все модели для более простого их использования в дальнейшем."
   ]
  },
  {
   "cell_type": "code",
   "execution_count": 12,
   "id": "68ee4a4e",
   "metadata": {},
   "outputs": [],
   "source": [
    "RFC = RandomForestClassifier(random_state=42)\n",
    "GB = GradientBoostingClassifier(random_state=42)\n",
    "MLP = MLPClassifier(hidden_layer_sizes=(30,), max_iter=650, random_state=42)"
   ]
  },
  {
   "cell_type": "markdown",
   "id": "99da3b75",
   "metadata": {},
   "source": [
    "Добавим игнорирование предупреждений, для того, чтобы вывод выглядел красивее."
   ]
  },
  {
   "cell_type": "code",
   "execution_count": 26,
   "id": "eb64c099",
   "metadata": {},
   "outputs": [],
   "source": [
    "import warnings\n",
    "from sklearn.exceptions import ConvergenceWarning\n",
    "warnings.filterwarnings(\"ignore\", category=ConvergenceWarning)"
   ]
  },
  {
   "cell_type": "markdown",
   "id": "cbd070e8",
   "metadata": {},
   "source": [
    "Перейдём к оптимизации параметров каждой модели методом RandomizedSearchCV, а также сразу выведем значение метрик для каждой модели. Для удобства будем сразу пользоваться лучшей моделью из RandomizedSearchCV, а не записывать и передовать параметры в модель."
   ]
  },
  {
   "cell_type": "code",
   "execution_count": 27,
   "id": "7efefac2",
   "metadata": {},
   "outputs": [
    {
     "name": "stdout",
     "output_type": "stream",
     "text": [
      "Random Forest метрики:\n",
      "ROC AUC: 0.80\n",
      "Accuracy: 0.81\n",
      "Precision: 0.87\n",
      "Recall: 0.85\n",
      "\n",
      "Gradient Boosting метрики:\n",
      "ROC AUC: 0.78\n",
      "Accuracy: 0.81\n",
      "Precision: 0.87\n",
      "Recall: 0.85\n",
      "\n",
      "MLP (Neural Network) метрики:\n",
      "ROC AUC: 0.79\n",
      "Accuracy: 0.74\n",
      "Precision: 0.83\n",
      "Recall: 0.79\n"
     ]
    }
   ],
   "source": [
    "random_search_for_RFC = RandomizedSearchCV(RFC, param_distributions=params_for_RFC, n_iter=10, cv=5, scoring='roc_auc', random_state=42)\n",
    "random_search_for_RFC.fit(X_train_scaled, y_balanced)\n",
    "best_params = random_search_for_RFC.best_params_\n",
    "best_model_RFC = random_search_for_RFC.best_estimator_\n",
    "best_model_RFC.fit(X_train_scaled, y_balanced)\n",
    "y_pred_proba_RFC = best_model_RFC.predict_proba(X_test_scaled)[:, 1]\n",
    "y_pred = best_model_RFC.predict(X_test_scaled)\n",
    "RFC_roc_auc = roc_auc_score(y_test, y_pred_proba_RFC)\n",
    "RFC_accuracy = accuracy_score(y_test, y_pred)\n",
    "RFC_precision = precision_score(y_test, y_pred)\n",
    "RFC_recall = recall_score(y_test, y_pred)\n",
    "\n",
    "print(\"Random Forest метрики:\")\n",
    "print(f\"ROC AUC: {RFC_roc_auc:.2f}\")\n",
    "print(f\"Accuracy: {RFC_accuracy:.2f}\")\n",
    "print(f\"Precision: {RFC_precision:.2f}\")\n",
    "print(f\"Recall: {RFC_recall:.2f}\")\n",
    "\n",
    "random_search_for_GB = RandomizedSearchCV(GB, param_distributions=params_for_GB, n_iter=10, cv=5, scoring='roc_auc', random_state=42)\n",
    "random_search_for_GB.fit(X_train_scaled, y_balanced)\n",
    "best_params = random_search_for_GB.best_params_\n",
    "best_model_GB = random_search_for_GB.best_estimator_\n",
    "best_model_GB.fit(X_train_scaled, y_balanced)\n",
    "GB_pred_proba = best_model_GB.predict_proba(X_test_scaled)[:, 1]\n",
    "GB_pred = best_model_RFC.predict(X_test_scaled)\n",
    "GB_roc_auc = roc_auc_score(y_test, GB_pred_proba)\n",
    "GB_accuracy = accuracy_score(y_test, GB_pred)\n",
    "GB_precision = precision_score(y_test, GB_pred)\n",
    "GB_recall = recall_score(y_test, GB_pred)\n",
    "\n",
    "print(\"\\nGradient Boosting метрики:\")\n",
    "print(f\"ROC AUC: {GB_roc_auc:.2f}\")\n",
    "print(f\"Accuracy: {GB_accuracy:.2f}\")\n",
    "print(f\"Precision: {GB_precision:.2f}\")\n",
    "print(f\"Recall: {GB_recall:.2f}\")\n",
    "\n",
    "random_search_for_MLP = RandomizedSearchCV(MLP, param_distributions=params_for_MLP, n_iter=10, cv=5, scoring='roc_auc', random_state=42)\n",
    "random_search_for_MLP.fit(X_train_scaled, y_balanced)\n",
    "best_params = random_search_for_MLP.best_params_\n",
    "best_model_MLP = random_search_for_MLP.best_estimator_\n",
    "best_model_MLP.fit(X_train_scaled, y_balanced)\n",
    "MLP_pred_proba = best_model_MLP.predict_proba(X_test_scaled)[:, 1]\n",
    "MLP_pred = best_model_MLP.predict(X_test_scaled)\n",
    "MLP_roc_auc = roc_auc_score(y_test, MLP_pred_proba)\n",
    "MLP_accuracy = accuracy_score(y_test, MLP_pred)\n",
    "MLP_precision = precision_score(y_test, MLP_pred)\n",
    "MLP_recall = recall_score(y_test, MLP_pred)\n",
    "\n",
    "print(\"\\nMLP (Neural Network) метрики:\")\n",
    "print(f\"ROC AUC: {MLP_roc_auc:.2f}\")\n",
    "print(f\"Accuracy: {MLP_accuracy:.2f}\")\n",
    "print(f\"Precision: {MLP_precision:.2f}\")\n",
    "print(f\"Recall: {MLP_recall:.2f}\")\n"
   ]
  },
  {
   "cell_type": "code",
   "execution_count": null,
   "id": "c1cf8d00-92a3-4b62-bca4-d854b72574d1",
   "metadata": {
    "tags": []
   },
   "outputs": [],
   "source": [
    "# Обучение Random Forest\n",
    "rf_model = RandomForestClassifier(n_estimators=100, random_state=42)\n",
    "rf_model.fit(X_train, y_train)\n",
    "\n",
    "# Прогноз на тестовых данных\n",
    "rf_pred = rf_model.predict(X_test)\n",
    "\n",
    "# Расчет метрик для Random Forest\n",
    "rf_roc_auc = roc_auc_score(y_test, rf_pred)\n",
    "rf_accuracy = accuracy_score(y_test, rf_pred)\n",
    "rf_precision = precision_score(y_test, rf_pred)\n",
    "rf_recall = recall_score(y_test, rf_pred)\n",
    "\n",
    "print(\"Random Forest метрики:\")\n",
    "print(f\"ROC AUC: {rf_roc_auc:.2f}\")\n",
    "print(f\"Accuracy: {rf_accuracy:.2f}\")\n",
    "print(f\"Precision: {rf_precision:.2f}\")\n",
    "print(f\"Recall: {rf_recall:.2f}\")\n",
    "\n",
    "# Обучение Gradient Boosting\n",
    "gb_model = GradientBoostingClassifier(n_estimators=100, random_state=42)\n",
    "gb_model.fit(X_train, y_train)\n",
    "\n",
    "# Прогноз на тестовых данных\n",
    "gb_pred = gb_model.predict(X_test)\n",
    "\n",
    "# Расчет метрик для Gradient Boosting\n",
    "gb_roc_auc = roc_auc_score(y_test, gb_pred)\n",
    "gb_accuracy = accuracy_score(y_test, gb_pred)\n",
    "gb_precision = precision_score(y_test, gb_pred)\n",
    "gb_recall = recall_score(y_test, gb_pred)\n",
    "\n",
    "print(\"\\nGradient Boosting метрики:\")\n",
    "print(f\"ROC AUC: {gb_roc_auc:.2f}\")\n",
    "print(f\"Accuracy: {gb_accuracy:.2f}\")\n",
    "print(f\"Precision: {gb_precision:.2f}\")\n",
    "print(f\"Recall: {gb_recall:.2f}\")"
   ]
  },
  {
   "cell_type": "code",
   "execution_count": null,
   "id": "ae1e040c-ddd0-4952-9dcb-58c1226da40a",
   "metadata": {
    "tags": []
   },
   "outputs": [],
   "source": [
    "# Обучение MLP (Multi-Layer Perceptron) нейронной сети\n",
    "mlp_model = MLPClassifier(hidden_layer_sizes=(30,), max_iter=500, random_state=42)\n",
    "mlp_model.fit(X_train, y_train)\n",
    "\n",
    "# Прогноз на тестовых данных\n",
    "mlp_pred = mlp_model.predict(X_test)\n",
    "\n",
    "# Расчет метрик для MLP нейронной сети\n",
    "mlp_roc_auc = roc_auc_score(y_test, mlp_pred)\n",
    "mlp_accuracy = accuracy_score(y_test, mlp_pred)\n",
    "mlp_precision = precision_score(y_test, mlp_pred)\n",
    "mlp_recall = recall_score(y_test, mlp_pred)\n",
    "\n",
    "print(\"\\nMLP (Neural Network) метрики:\")\n",
    "print(f\"ROC AUC: {mlp_roc_auc:.2f}\")\n",
    "print(f\"Accuracy: {mlp_accuracy:.2f}\")\n",
    "print(f\"Precision: {mlp_precision:.2f}\")\n",
    "print(f\"Recall: {mlp_recall:.2f}\")"
   ]
  },
  {
   "cell_type": "markdown",
   "id": "d2d6eb00-77fd-40dc-a3c5-35c1fe0200c0",
   "metadata": {},
   "source": [
    "## Экспериментируйте\n",
    "Для получения лучшего качества придется поэкспериментировать. Подсказка: попробуйте оптимизировать гиперпараметры модели"
   ]
  }
 ],
 "metadata": {
  "kernelspec": {
   "display_name": "Python 3 (ipykernel)",
   "language": "python",
   "name": "python3"
  },
  "language_info": {
   "codemirror_mode": {
    "name": "ipython",
    "version": 3
   },
   "file_extension": ".py",
   "mimetype": "text/x-python",
   "name": "python",
   "nbconvert_exporter": "python",
   "pygments_lexer": "ipython3",
   "version": "3.11.2"
  }
 },
 "nbformat": 4,
 "nbformat_minor": 5
}
